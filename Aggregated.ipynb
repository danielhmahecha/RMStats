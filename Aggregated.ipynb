{
 "cells": [
  {
   "cell_type": "code",
   "execution_count": 2,
   "id": "adc1360f-42eb-4a1c-bf86-a029c5683fc2",
   "metadata": {},
   "outputs": [],
   "source": [
    "import pandas as pd\n",
    "import seaborn as sns\n",
    "import matplotlib.pyplot as plt\n",
    "import os\n",
    "import re"
   ]
  },
  {
   "cell_type": "code",
   "execution_count": 3,
   "id": "a0bf9902-7ef4-4dfc-90cb-c3c62d0a448b",
   "metadata": {},
   "outputs": [],
   "source": [
    "input_dir = \"/home/daniel/Documents/VGP/results\"\n",
    "taxonomy_file = \"/home/daniel/Documents/VGP/ID_Species.tsv\"\n",
    "taxonomy_df = pd.read_csv(taxonomy_file, sep=\"\\t\")\n",
    "taxonomy_dict = dict(zip(taxonomy_df[\"Assembly_ID\"], taxonomy_df[\"Taxon_Group\"]))\n",
    "data = []"
   ]
  },
  {
   "cell_type": "code",
   "execution_count": 4,
   "id": "3b2b266d-2ffb-49ff-b364-de8384bf68cf",
   "metadata": {},
   "outputs": [],
   "source": [
    "#Anterior total\n",
    "for file in os.listdir(input_dir):\n",
    "    if file.endswith(\".rmstats\"):  \n",
    "        current_class = None\n",
    "        with open(os.path.join(input_dir, file)) as f:\n",
    "            for line in f:\n",
    "                line = line.strip()\n",
    "                if line.startswith(\"Class:\"):\n",
    "                    current_class = line.split(\"Class:\")[1].strip()\n",
    "                elif current_class and line and not line.startswith('|') and not line.startswith('Total-') and not line.startswith('-'):\n",
    "                    match = re.match(r'^(\\S+)\\s+(\\d+)\\s+([\\d\\.]+)\\s+([\\d\\.]+)%\\s+([\\d\\.]+)%$', line)\n",
    "                    if match:\n",
    "                        family = match.group(1)\n",
    "                        number_of_elements = int(match.group(2))\n",
    "                        size_of_family = float(match.group(3))\n",
    "                        percentage_class = float(match.group(4))\n",
    "                        percentage_total = float(match.group(5))\n",
    "                        data.append([file, current_class, family, number_of_elements, size_of_family, percentage_class, percentage_total])"
   ]
  },
  {
   "cell_type": "code",
   "execution_count": 4,
   "id": "c9d3636b-83f2-4f12-b461-e11c9600fa9f",
   "metadata": {},
   "outputs": [],
   "source": [
    "#Por familias\n",
    "for file in os.listdir(input_dir):\n",
    "    if file.endswith(\".rmstats\"):  \n",
    "        current_class = None\n",
    "        file_path = os.path.join(input_dir, file)\n",
    "        with open(file_path) as f:\n",
    "            for line in f:\n",
    "                line = line.strip()\n",
    "                if line.startswith(\"Class:\"):\n",
    "                    current_class = line.split(\"Class:\")[1].strip()\n",
    "                elif current_class and line and not line.startswith('|') and not line.startswith('Total-') and not line.startswith('-'):\n",
    "                    match = re.match(r'^(\\S+)\\s+(\\d+)\\s+([\\d\\.]+)\\s+([\\d\\.]+)%\\s+([\\d\\.]+)%$', line)\n",
    "                    if match:\n",
    "                        family = match.group(1)\n",
    "                        number_of_elements = int(match.group(2))\n",
    "                        size_of_family = float(match.group(3))\n",
    "                        percentage_class = float(match.group(4))\n",
    "                        percentage_total = float(match.group(5))\n",
    "                        assembly_id = file.replace(\".rmstats\", \"\")\n",
    "                        taxon = taxonomy_dict.get(assembly_id, \"Unknown\")\n",
    "                        data.append([assembly_id, taxon, current_class, family, number_of_elements, size_of_family, percentage_class, percentage_total])"
   ]
  },
  {
   "cell_type": "code",
   "execution_count": 5,
   "id": "8490448c-9cee-432c-9521-d144478ebd45",
   "metadata": {},
   "outputs": [
    {
     "name": "stdout",
     "output_type": "stream",
     "text": [
      "                      File          Class         Family  Number_of_Elements  \\\n",
      "0  GCA_020745775.1.rmstats       ARTEFACT       ARTEFACT                  12   \n",
      "1  GCA_020745775.1.rmstats  Simple_repeat  Simple_repeat              236735   \n",
      "2  GCA_020745775.1.rmstats           tRNA           tRNA                3462   \n",
      "3  GCA_020745775.1.rmstats           rRNA           rRNA                 175   \n",
      "4  GCA_020745775.1.rmstats           DNA?           DNA?                3158   \n",
      "\n",
      "   Size_of_Family  Percentage_of_Class  Percentage_of_Total_Size  \n",
      "0           693.0                100.0                      0.00  \n",
      "1      10385343.0                100.0                     12.95  \n",
      "2        478288.0                100.0                      0.60  \n",
      "3         20548.0                100.0                      0.03  \n",
      "4        634293.0                100.0                      0.79  \n"
     ]
    }
   ],
   "source": [
    "#Anterior\n",
    "df = pd.DataFrame(data, columns=[\"File\", \"Class\", \"Family\", \"Number_of_Elements\", \"Size_of_Family\", \"Percentage_of_Class\", \"Percentage_of_Total_Size\"])\n",
    "print(df.head()) "
   ]
  },
  {
   "cell_type": "code",
   "execution_count": 5,
   "id": "67baf6fc-8df5-4169-a4ba-63db94687453",
   "metadata": {},
   "outputs": [],
   "source": [
    "#Actual\n",
    "df = pd.DataFrame(data, columns=[\"Assembly\", \"Taxon_Group\", \"Class\", \"Family\", \"Number_of_Elements\", \"Size_of_Family\", \"Percentage_of_Class\", \"Percentage_of_Total_Size\"])\n",
    "families = df[\"Family\"].unique()"
   ]
  },
  {
   "cell_type": "code",
   "execution_count": 15,
   "id": "277e0ebc-3849-401b-91ec-14d7f935c4db",
   "metadata": {},
   "outputs": [],
   "source": [
    "def plot_items(variable):\n",
    "    for fam in sorted(families):\n",
    "        df_fam = df[df[\"Family\"] == fam]\n",
    "        if df_fam.empty:\n",
    "            continue  # evita errores si no hay datos para esta familia\n",
    "\n",
    "        class_name = df_fam[\"Class\"].iloc[0]  # asumimos que todas las filas tienen la misma clase\n",
    "\n",
    "        plt.figure(figsize=(10, 6))\n",
    "        sns.boxplot(data=df_fam, x=\"Taxon_Group\", y=variable)\n",
    "        plt.title(f\"Boxplot - Class: {class_name} | Family: {fam} ({variable.replace('_', ' ')})\")\n",
    "        plt.xticks(rotation=45)\n",
    "        plt.tight_layout()\n",
    "        plt.savefig(f\"boxplot_{class_name}_{fam}_{variable}.png\")\n",
    "        plt.close()"
   ]
  },
  {
   "cell_type": "code",
   "execution_count": 17,
   "id": "48faa148-b3c9-4726-85c7-b847b203e729",
   "metadata": {},
   "outputs": [],
   "source": [
    "plot_items(\"Percentage_of_Total_Size\")"
   ]
  },
  {
   "cell_type": "code",
   "execution_count": 18,
   "id": "f916596b-3e08-4732-b353-6bb571880f45",
   "metadata": {},
   "outputs": [],
   "source": [
    "plot_items(\"Number_of_Elements\")"
   ]
  },
  {
   "cell_type": "code",
   "execution_count": 19,
   "id": "24a48274-69f4-4d16-bff0-24604bb3a0fc",
   "metadata": {},
   "outputs": [
    {
     "name": "stdout",
     "output_type": "stream",
     "text": [
      "['ARTEFACT' 'Simple_repeat' 'tRNA' 'rRNA' 'DNA?' 'Satellite' 'LTR' 'SINE'\n",
      " 'Unspecified' 'snRNA' 'RC?' 'Low_complexity' 'RC' 'Unknown' 'DNA' 'LTR?'\n",
      " 'LINE' 'scRNA' 'srpRNA' 'SINE?' 'Other' 'PLE' 'Retroposon' 'Satellite?'\n",
      " 'Segmental' 'RNA']\n"
     ]
    }
   ],
   "source": [
    "classes = df[\"Class\"].unique()\n",
    "print(classes)"
   ]
  },
  {
   "cell_type": "code",
   "execution_count": 20,
   "id": "4cc71ed6-ba09-4b3c-9b87-392302b93696",
   "metadata": {},
   "outputs": [],
   "source": [
    "def plot_items_class(variable):\n",
    "    for cls in sorted(classes):\n",
    "        plt.figure(figsize=(10, 6))\n",
    "        sns.boxplot(data=df[df[\"Class\"] == cls], x=\"Taxon_Group\", y=variable)\n",
    "        plt.title(f\"Boxplot - {cls} ({variable.replace('_', ' ')})\")\n",
    "        plt.xticks(rotation=45)\n",
    "        plt.tight_layout()\n",
    "        plt.savefig(f\"classboxplot_{cls}_{variable}.png\")\n",
    "        plt.close()"
   ]
  },
  {
   "cell_type": "code",
   "execution_count": 21,
   "id": "47d96c8f-c37f-4efe-aa4f-9c288e403fed",
   "metadata": {},
   "outputs": [],
   "source": [
    "plot_items_class(\"Percentage_of_Total_Size\")"
   ]
  },
  {
   "cell_type": "code",
   "execution_count": 22,
   "id": "16f5ee65-adf4-445c-9756-30392650ff21",
   "metadata": {},
   "outputs": [],
   "source": [
    "plot_items_class(\"Number_of_Elements\")"
   ]
  },
  {
   "cell_type": "code",
   "execution_count": 28,
   "id": "b4f1002d-b24e-4bfc-85fc-0710340eeb1a",
   "metadata": {},
   "outputs": [],
   "source": [
    "unknowns = df[df[\"Taxon_Group\"]==\"Unknown\"]"
   ]
  },
  {
   "cell_type": "code",
   "execution_count": 31,
   "id": "d401a71c-9d9d-4074-ab24-112980887512",
   "metadata": {},
   "outputs": [
    {
     "data": {
      "text/plain": [
       "array(['GCA_035609145.1', 'GCA_040894005.1', 'GCF_963455315.1',\n",
       "       'GCA_964264875.1', 'GCA_040954625.1', 'GCA_964195595.1',\n",
       "       'GCF_901001135.1', 'GCA_031021105.1', 'GCF_029281585.2',\n",
       "       'GCA_964212035.1', 'GCA_964146895.1', 'GCA_023637945.1',\n",
       "       'GCF_929443795.1', 'GCA_044704955.1', 'GCA_028372415.1',\n",
       "       'GCA_023333525.1', 'GCF_901765095.1', 'GCA_011762505.2',\n",
       "       'GCA_047511675.1', 'GCA_040894355.1', 'GCA_964237555.1',\n",
       "       'GCA_042242105.1', 'GCA_039877785.1', 'GCA_036169615.1',\n",
       "       'GCA_963455315.2', 'GCF_902459505.1', 'GCA_030463535.1'],\n",
       "      dtype=object)"
      ]
     },
     "execution_count": 31,
     "metadata": {},
     "output_type": "execute_result"
    }
   ],
   "source": [
    "unknowns[\"Assembly\"].unique()"
   ]
  },
  {
   "cell_type": "code",
   "execution_count": null,
   "id": "71a0ff2b-2f30-4f47-a0d0-96304ec233bb",
   "metadata": {},
   "outputs": [],
   "source": []
  }
 ],
 "metadata": {
  "kernelspec": {
   "display_name": "Python 3 (ipykernel)",
   "language": "python",
   "name": "python3"
  },
  "language_info": {
   "codemirror_mode": {
    "name": "ipython",
    "version": 3
   },
   "file_extension": ".py",
   "mimetype": "text/x-python",
   "name": "python",
   "nbconvert_exporter": "python",
   "pygments_lexer": "ipython3",
   "version": "3.12.7"
  }
 },
 "nbformat": 4,
 "nbformat_minor": 5
}
